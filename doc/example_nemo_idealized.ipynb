{
 "cells": [
  {
   "cell_type": "markdown",
   "metadata": {},
   "source": [
    "## NEMO Example \n",
    "\n",
    "For this example, the NEMO output files have already been saved as netCDF with the right coordinte names. The [xorca](https://github.com/willirath/xorca) package is designed to open NEMO datasets so they are understandable by xgcm. The [xnemogcm](https://github.com/rcaneill/xnemogcm) does a similar work on idealized configurations.\n",
    "\n",
    "Below are some example of how to make calculations datasets using xgcm.\n",
    "\n",
    "First we import xarray and xgcm:"
   ]
  },
  {
   "cell_type": "code",
   "execution_count": 1,
   "metadata": {},
   "outputs": [],
   "source": [
    "import xarray as xr\n",
    "import numpy as np\n",
    "import xgcm\n",
    "from matplotlib import pyplot as plt\n",
    "%matplotlib inline\n",
    "plt.rcParams['figure.figsize'] = (6,10)"
   ]
  },
  {
   "cell_type": "markdown",
   "metadata": {},
   "source": [
    "Now we open the NEMO example dataset, from the BASIN configuration. The *ds* dataset contains the variables data (e.g. temperature, velocities) while the *domcfg* dataset contains the grid data (position, scale factor, etc).\n",
    "\n",
    "We get the data from the website blablabla."
   ]
  },
  {
   "cell_type": "code",
   "execution_count": 2,
   "metadata": {
    "scrolled": false
   },
   "outputs": [
    {
     "name": "stdout",
     "output_type": "stream",
     "text": [
      "ds\n",
      " <xarray.Dataset>\n",
      "Dimensions:        (axis_nbounds: 2, t: 1, x_c: 21, x_f: 21, y_c: 40, y_f: 40, z_c: 36, z_f: 36)\n",
      "Coordinates:\n",
      "  * z_f            (z_f) float64 -0.5 0.5 1.5 2.5 3.5 ... 31.5 32.5 33.5 34.5\n",
      "  * t              (t) object 7756-01-01 00:00:00\n",
      "  * x_c            (x_c) int64 0 1 2 3 4 5 6 7 8 ... 12 13 14 15 16 17 18 19 20\n",
      "  * y_c            (y_c) int64 0 1 2 3 4 5 6 7 8 ... 31 32 33 34 35 36 37 38 39\n",
      "  * z_c            (z_c) int64 0 1 2 3 4 5 6 7 8 ... 27 28 29 30 31 32 33 34 35\n",
      "  * x_f            (x_f) float64 0.5 1.5 2.5 3.5 4.5 ... 17.5 18.5 19.5 20.5\n",
      "  * y_f            (y_f) float64 0.5 1.5 2.5 3.5 4.5 ... 36.5 37.5 38.5 39.5\n",
      "Dimensions without coordinates: axis_nbounds\n",
      "Data variables:\n",
      "    depthw_bounds  (z_f, axis_nbounds) float32 ...\n",
      "    t_bounds       (t, axis_nbounds) object ...\n",
      "    woce           (t, z_f, y_c, x_c) float32 ...\n",
      "    e3w            (t, z_f, y_c, x_c) float32 ...\n",
      "    deptht_bounds  (z_c, axis_nbounds) float32 ...\n",
      "    e3t            (t, z_c, y_c, x_c) float32 ...\n",
      "    thetao         (t, z_c, y_c, x_c) float32 ...\n",
      "    so             (t, z_c, y_c, x_c) float32 ...\n",
      "    rhop           (t, z_c, y_c, x_c) float32 ...\n",
      "    tos            (t, y_c, x_c) float32 ...\n",
      "    sos            (t, y_c, x_c) float32 ...\n",
      "    zos            (t, y_c, x_c) float32 ...\n",
      "    qt             (t, y_c, x_c) float32 ...\n",
      "    saltflx        (t, y_c, x_c) float32 ...\n",
      "    depthu_bounds  (z_c, axis_nbounds) float32 ...\n",
      "    e3u            (t, z_c, y_c, x_f) float32 ...\n",
      "    uos            (t, y_c, x_f) float32 ...\n",
      "    uo             (t, z_c, y_c, x_f) float32 ...\n",
      "    depthv_bounds  (z_c, axis_nbounds) float32 ...\n",
      "    e3v            (t, z_c, y_f, x_c) float32 ...\n",
      "    vos            (t, y_f, x_c) float32 ...\n",
      "    vo             (t, z_c, y_f, x_c) float32 ...\n",
      "Attributes:\n",
      "    name:         NEMO dataset \n",
      "    description:  Ocean grid variables, set on the proper positions\n",
      "    title:        Ocean grid variables\n",
      "\n",
      "domcfg\n",
      " <xarray.Dataset>\n",
      "Dimensions:       (x_c: 21, x_f: 21, y_c: 40, y_f: 40, z_c: 36, z_f: 36)\n",
      "Coordinates:\n",
      "  * x_c           (x_c) int64 0 1 2 3 4 5 6 7 8 9 ... 12 13 14 15 16 17 18 19 20\n",
      "  * y_c           (y_c) int64 0 1 2 3 4 5 6 7 8 9 ... 31 32 33 34 35 36 37 38 39\n",
      "  * x_f           (x_f) float64 0.5 1.5 2.5 3.5 4.5 ... 16.5 17.5 18.5 19.5 20.5\n",
      "  * y_f           (y_f) float64 0.5 1.5 2.5 3.5 4.5 ... 35.5 36.5 37.5 38.5 39.5\n",
      "  * z_c           (z_c) int64 0 1 2 3 4 5 6 7 8 9 ... 27 28 29 30 31 32 33 34 35\n",
      "  * z_f           (z_f) float64 -0.5 0.5 1.5 2.5 3.5 ... 31.5 32.5 33.5 34.5\n",
      "    x_c_pos       (y_c, x_c) float64 ...\n",
      "    x_f_pos       (y_c, x_f) float64 ...\n",
      "    y_c_pos       (y_c, x_c) float64 ...\n",
      "    y_f_pos       (y_f, x_c) float64 ...\n",
      "    z_c_pos       (z_c, y_c, x_c) float64 ...\n",
      "    z_f_pos       (z_f, y_c, x_c) float64 ...\n",
      "Data variables:\n",
      "    nav_lon       (y_c, x_c) float32 ...\n",
      "    nav_lat       (y_c, x_c) float32 ...\n",
      "    jpiglo        int32 ...\n",
      "    jpjglo        int32 ...\n",
      "    jpkglo        int32 ...\n",
      "    jperio        int32 ...\n",
      "    ln_zco        int32 ...\n",
      "    ln_zps        int32 ...\n",
      "    ln_sco        int32 ...\n",
      "    ln_isfcav     int32 ...\n",
      "    glamt         (y_c, x_c) float64 ...\n",
      "    glamu         (y_c, x_f) float64 ...\n",
      "    glamv         (y_f, x_c) float64 ...\n",
      "    glamf         (y_f, x_f) float64 ...\n",
      "    gphit         (y_c, x_c) float64 ...\n",
      "    gphiu         (y_c, x_f) float64 ...\n",
      "    gphiv         (y_f, x_c) float64 ...\n",
      "    gphif         (y_f, x_f) float64 ...\n",
      "    e1t           (y_c, x_c) float64 ...\n",
      "    e1u           (y_c, x_f) float64 ...\n",
      "    e1v           (y_f, x_c) float64 ...\n",
      "    e1f           (y_f, x_f) float64 ...\n",
      "    e2t           (y_c, x_c) float64 ...\n",
      "    e2u           (y_c, x_f) float64 ...\n",
      "    e2v           (y_f, x_c) float64 ...\n",
      "    e2f           (y_f, x_f) float64 ...\n",
      "    ff_f          (y_f, x_f) float64 ...\n",
      "    ff_t          (y_c, x_c) float64 ...\n",
      "    e3t_1d        (z_c) float64 ...\n",
      "    e3w_1d        (z_f) float64 ...\n",
      "    e3t_0         (z_c, y_c, x_c) float64 ...\n",
      "    e3u_0         (z_c, y_c, x_f) float64 ...\n",
      "    e3v_0         (z_c, y_f, x_c) float64 ...\n",
      "    e3f_0         (z_c, y_f, x_f) float64 ...\n",
      "    e3w_0         (z_f, y_c, x_c) float64 ...\n",
      "    e3uw_0        (z_f, y_c, x_f) float64 ...\n",
      "    e3vw_0        (z_f, y_f, x_c) float64 ...\n",
      "    top_level     (y_c, x_c) float64 ...\n",
      "    bottom_level  (y_c, x_c) float64 ...\n",
      "    stiffness     (y_c, x_c) float64 ...\n",
      "    gdept_0       (z_c, y_c, x_c) float64 ...\n",
      "    gdepw_0       (z_f, y_c, x_c) float64 ...\n",
      "    ht_0          (y_c, x_c) float64 ...\n",
      "    hu_0          (y_c, x_f) float64 ...\n",
      "    hv_0          (y_f, x_c) float64 ...\n",
      "    x_c_dif       (y_c, x_c) float64 ...\n",
      "    x_f_dif       (y_c, x_f) float64 ...\n",
      "    y_c_dif       (y_c, x_c) float64 ...\n",
      "    y_f_dif       (y_f, x_c) float64 ...\n",
      "    z_c_dif       (z_c, y_c, x_c) float64 ...\n",
      "    z_f_dif       (z_f, y_c, x_c) float64 ...\n",
      "Attributes:\n",
      "    DOMAIN_number_total:     1\n",
      "    DOMAIN_number:           1\n",
      "    DOMAIN_dimensions_ids:   [1 2]\n",
      "    DOMAIN_size_global:      [21 40]\n",
      "    DOMAIN_size_local:       [21 40]\n",
      "    DOMAIN_position_first:   [1 1]\n",
      "    DOMAIN_position_last:    [21 40]\n",
      "    DOMAIN_halo_size_start:  [0 0]\n",
      "    DOMAIN_halo_size_end:    [0 0]\n",
      "    DOMAIN_type:             BOX\n",
      "    nn_cfg:                  2\n",
      "    cn_cfg:                  BASIN\n"
     ]
    }
   ],
   "source": [
    "# download the data\n",
    "import urllib.request\n",
    "import shutil\n",
    "url = 'https://rcaneill.pythonanywhere.com/'\n",
    "file_name_domcfg = 'xnemogcm.domcfg.nc'\n",
    "with urllib.request.urlopen(url + file_name_domcfg) as response, open(file_name_domcfg, 'wb') as out_file:\n",
    "    shutil.copyfileobj(response, out_file)\n",
    "file_name_basin = 'xnemogcm.nemo.nc'\n",
    "with urllib.request.urlopen(url + file_name_basin) as response, open(file_name_basin, 'wb') as out_file:\n",
    "    shutil.copyfileobj(response, out_file)\n",
    "    \n",
    "# open the data\n",
    "ds = xr.open_dataset(file_name_basin)\n",
    "domcfg = xr.open_dataset(file_name_domcfg)\n",
    "\n",
    "print('ds\\n', ds)\n",
    "print('\\ndomcfg\\n', domcfg)"
   ]
  },
  {
   "cell_type": "markdown",
   "metadata": {},
   "source": [
    "### Creating the grid object\n",
    "\n",
    "Next we create a `Grid` object from the dataset.\n",
    "All the axes are here non-periodic.\n",
    "The `metrics` dict contains the scale factors."
   ]
  },
  {
   "cell_type": "code",
   "execution_count": 3,
   "metadata": {},
   "outputs": [
    {
     "name": "stdout",
     "output_type": "stream",
     "text": [
      "<xgcm.Grid>\n",
      "Y Axis (not periodic):\n",
      "  * center   y_c --> right\n",
      "  * right    y_f --> center\n",
      "Z Axis (not periodic):\n",
      "  * center   z_c --> left\n",
      "  * left     z_f --> center\n",
      "X Axis (not periodic):\n",
      "  * center   x_c --> right\n",
      "  * right    x_f --> center\n"
     ]
    }
   ],
   "source": [
    "\n",
    "metrics = {\n",
    "    ('X',): ['e1t', 'e1u', 'e1v', 'e1f'], # X distances\n",
    "    ('Y',): ['e2t', 'e2u', 'e2v', 'e2f'], # Y distances\n",
    "    ('Z',): ['e3t_0', 'e3u_0', 'e3v_0', 'e3f_0', 'e3w_0', 'e3uw_0', 'e3vw_0'], # Z distances\n",
    "    #('X', 'Y'): [] # Areas TODO\n",
    "}\n",
    "grid = xgcm.Grid(domcfg, metrics=metrics, periodic=False)\n",
    "print(grid)"
   ]
  },
  {
   "cell_type": "markdown",
   "metadata": {},
   "source": [
    "We see that xgcm identified three different axes: X (longitude), Y (latitude), Z (depth)."
   ]
  },
  {
   "cell_type": "markdown",
   "metadata": {},
   "source": [
    "### Horizontal gradient of SST\n",
    "\n",
    "We will compute the horizontal component of the gradient of SST in the longitude\n",
    "direction as a first example to understand the logic behind the\n",
    "xgcm grids.\n",
    "\n",
    "We want to compute\n",
    "$\\frac{\\partial SST}{\\partial x}$.\n",
    "The SST is the variable `tos` (Temperature Ocean Surface) in our dataset.\n",
    "\n",
    "In discrete form, using the NEMO notation, the derivative becomes\n",
    "\n",
    "$$\\frac{\\partial SST}{\\partial x} = \\frac{1}{e_{1u}} \\delta_{i+1/2} SST\n",
    "= \\frac{1}{e_{1u}} (SST_{i+1} - SST_i) \\ .$$\n",
    "\n",
    "The last T point is an earth point here, such as the 2 last U points: we set up the\n",
    "`boundary` argument to 'fill' and the fill value to zero.\n",
    "\n",
    "The gradient is first computed with the `diff` function and\n",
    "then with the `gradient` function, the result is the same as the `gradient`\n",
    "function is aware of which scale factor to use."
   ]
  },
  {
   "cell_type": "code",
   "execution_count": 4,
   "metadata": {},
   "outputs": [
    {
     "name": "stdout",
     "output_type": "stream",
     "text": [
      "Coordinates:\n",
      "  * t        (t) object 7756-01-01 00:00:00\n",
      "  * y_c      (y_c) int64 0 1 2 3 4 5 6 7 8 9 ... 30 31 32 33 34 35 36 37 38 39\n",
      "  * x_f      (x_f) float64 0.5 1.5 2.5 3.5 4.5 5.5 ... 16.5 17.5 18.5 19.5 20.5\n"
     ]
    },
    {
     "data": {
      "text/html": [
       "<pre>&lt;xarray.DataArray ()&gt;\n",
       "array(True)</pre>"
      ],
      "text/plain": [
       "<xarray.DataArray ()>\n",
       "array(True)"
      ]
     },
     "execution_count": 4,
     "metadata": {},
     "output_type": "execute_result"
    }
   ],
   "source": [
    "grad_T_lon0 = grid.diff(ds.tos, axis='X', boundary='fill', fill_value=0) / domcfg.e1u\n",
    "grad_T_lon1 = grid.derivative(ds.tos, axis='X', boundary='fill', fill_value=0)\n",
    "print(grad_T_lon1.coords)\n",
    "(grad_T_lon0 == grad_T_lon1).all()"
   ]
  },
  {
   "cell_type": "markdown",
   "metadata": {},
   "source": [
    "As expected the result of the 2 operations is the same.\n",
    "The position of the derivative is now on the U point."
   ]
  },
  {
   "cell_type": "markdown",
   "metadata": {},
   "source": [
    "### Divergence Calculation\n",
    "\n",
    "Here we show how to calculate the divergence of the volume transport.\n",
    "The precise details of how to do this calculation are highly model- and configuration-dependent (e.g. free-surface vs. rigid lid, etc.)\n",
    "In this very simple example, the flow is incompressible, without precipitations\n",
    "or evaporation, satisfying the continuity equation\n",
    "\n",
    "$$ \\vec{\\nabla} \\cdot \\vec{u} = \n",
    "  \\frac{\\partial u}{\\partial x} + \\frac{\\partial v}{\\partial y}\n",
    "  + \\frac{\\partial w}{\\partial z} = 0 \\ .$$\n",
    "\n",
    "In discrete form, using NEMO notation, the equation becomes\n",
    "\n",
    "$$ \\vec{\\nabla} \\cdot \\vec{u} = \\frac{1}{e_{1t}e_{2t}e_{3t}} \\left[\n",
    "  \\delta_i(u \\cdot e_{2u} \\cdot e_{3u})\n",
    "  + \\delta_j(v \\cdot e_{1v} \\cdot e_{3v})\n",
    "  + \\delta_k(w \\cdot e_{1w} \\cdot e_{2w}) \\right] = 0 \\ .$$\n",
    "\n",
    "In this example, the grid is a Mercator grid, thus $e_{2t} = e_{2u} = e_{2v}$ and is\n",
    "constant along the i-axis.\n",
    "Moreover, the scale factors $e_1$ and $e_2$ are constant with depth, so\n",
    "$e_{1w} = e_{1t}$ and $e_{2w} = e_{2t}$.\n",
    "The equation can be rewritten as\n",
    "\n",
    "$$ \\vec{\\nabla} \\cdot \\vec{u} = \\frac{1}{e_{1t}} \\delta_i(u) + \n",
    "  \\frac{1}{e_{1t}e_{2t}e_{3t}} \\delta_j(v \\cdot e_{1v} \\cdot e_{3v})\n",
    "  + \\frac{1}{e_{3t}} \\delta_k{w} = 0\\ .$$\n",
    "  \n",
    "*Remark:* as the grid width narrows towards the north, $e_{1t} \\neq e_{1v}$.\n",
    "The coordinate are terrain following, thus $e_{3t} \\neq e_{3v}$."
   ]
  },
  {
   "cell_type": "markdown",
   "metadata": {},
   "source": [
    "First we calculate the divergence of the horizontal flow only (u and v), i.e. the first two terms on the LHS. To begin, we multiply the u and v velocity components by the appropriate area factors to convert them to volume transports."
   ]
  },
  {
   "cell_type": "code",
   "execution_count": 32,
   "metadata": {},
   "outputs": [],
   "source": [
    "#u_transport = ds.uVeltave * ds.dyG * ds.hFacW * ds.drF\n",
    "#v_transport = ds.vVeltave * ds.dxG * ds.hFacS * ds.drF"
   ]
  },
  {
   "cell_type": "markdown",
   "metadata": {},
   "source": [
    "The `u_transport` DataArray is on the left point of the X axis, while the `v_transport` DataArray is on the left point of the Y axis.\n",
    "\n",
    "Now comes the xgcm magic: we take the diff along both axes and divide by the cell area element to find the divergence of the horizontal flow. Note how this new variable is at the cell center point."
   ]
  },
  {
   "cell_type": "code",
   "execution_count": 31,
   "metadata": {},
   "outputs": [],
   "source": [
    "#div_uv = (grid.diff(u_transport, 'X') + grid.diff(v_transport, 'Y'))\n",
    "#div_uv"
   ]
  },
  {
   "cell_type": "markdown",
   "metadata": {},
   "source": [
    "To verify that this worked properly, we can compute the vertical sum of the horizontal convergence.\n",
    "It should be equal to the vertical velocity at the top."
   ]
  },
  {
   "cell_type": "code",
   "execution_count": 33,
   "metadata": {},
   "outputs": [],
   "source": [
    "#(-div_uv.sum(dim='Z') / ds.rA).plot();"
   ]
  },
  {
   "cell_type": "code",
   "execution_count": 34,
   "metadata": {},
   "outputs": [],
   "source": [
    "#ds.wVeltave[0,0].plot();"
   ]
  },
  {
   "cell_type": "markdown",
   "metadata": {},
   "source": [
    "Indeed these two fields look visually identical, which we can verify with a scatter plot."
   ]
  },
  {
   "cell_type": "code",
   "execution_count": 35,
   "metadata": {},
   "outputs": [],
   "source": [
    "#plt.scatter((-div_uv.sum(dim='Z') / ds.rA), ds.wVeltave[0,0], s=1)\n",
    "#plt.ylim([-1e-7, 1e-7])\n",
    "#plt.xlim([-1e-7, 1e-7])\n",
    "#plt.grid()"
   ]
  },
  {
   "cell_type": "markdown",
   "metadata": {},
   "source": [
    "Finally, we can compute the full 3D divergence by including the vertical transport."
   ]
  },
  {
   "cell_type": "code",
   "execution_count": 36,
   "metadata": {},
   "outputs": [],
   "source": [
    "#w_transport = ds.wVeltave * ds.rA\n",
    "#div_w = -grid.diff(w_transport, 'Z', boundary='fill')\n",
    "#div_w"
   ]
  },
  {
   "cell_type": "markdown",
   "metadata": {},
   "source": [
    "Another scatterplot shows that the divergence of the horizontal velocity is equal and opposite to the divergence of the vertical velocity."
   ]
  },
  {
   "cell_type": "code",
   "execution_count": 37,
   "metadata": {},
   "outputs": [],
   "source": [
    "#plt.scatter(div_uv, -div_w, s=1)\n",
    "#plt.grid()"
   ]
  },
  {
   "cell_type": "markdown",
   "metadata": {},
   "source": [
    "### Vorticity and Strain\n",
    "Here we compute more dervied quantities from the velocity field.\n",
    "\n",
    "The vertical component of the vorticity is a fundamental quantity of interest in ocean circulation theory. It is defined as\n",
    "\n",
    "$$ \\zeta = - \\frac{\\partial u}{\\partial y} + \\frac{\\partial v}{\\partial x} \\ . $$\n",
    "\n",
    "On the c-grid, a finite-volume representation is given by\n",
    "\n",
    "$$ \\zeta =  (- \\delta_j \\Delta x_c u + \\delta_i \\Delta y_c v ) / A_\\zeta \\ . $$\n",
    "\n",
    "In xgcm, we calculate this quanity as"
   ]
  },
  {
   "cell_type": "code",
   "execution_count": 38,
   "metadata": {},
   "outputs": [],
   "source": [
    "#zeta = (-grid.diff(ds.U * ds.dxC, 'Y') + grid.diff(ds.V * ds.dyC, 'X'))/ds.rAz\n",
    "#zeta"
   ]
  },
  {
   "cell_type": "markdown",
   "metadata": {},
   "source": [
    "...which we can see is located at the `YG, XG` horizontal position (also commonly called the vorticity point).\n",
    "\n",
    "We plot the vertical integral of this quantity, i.e. the barotropic vorticity:"
   ]
  },
  {
   "cell_type": "code",
   "execution_count": 39,
   "metadata": {},
   "outputs": [],
   "source": [
    "#zeta_bt = (zeta * ds.drF).sum(dim='Z')\n",
    "#zeta_bt.plot(vmax=2e-4)"
   ]
  },
  {
   "cell_type": "markdown",
   "metadata": {},
   "source": [
    "A different way to calculate the barotropic vorticity is to take the curl of the vertically integrated velocity.\n",
    "This formulation also allows us to incorporate the $h$ factors representing partial cell thickness."
   ]
  },
  {
   "cell_type": "code",
   "execution_count": 40,
   "metadata": {},
   "outputs": [],
   "source": [
    "#u_bt = (ds.U * ds.hFacW * ds.drF).sum(dim='Z')\n",
    "#v_bt = (ds.V * ds.hFacS * ds.drF).sum(dim='Z')\n",
    "#zeta_bt_alt = (-grid.diff(u_bt * ds.dxC, 'Y') + grid.diff(v_bt * ds.dyC, 'X'))/ds.rAz\n",
    "#zeta_bt_alt.plot(vmax=2e-4)"
   ]
  },
  {
   "cell_type": "markdown",
   "metadata": {},
   "source": [
    "Another interesting quantity is the horizontal strain, defined as\n",
    "\n",
    "$$ s = \\frac{\\partial u}{\\partial x} - \\frac{\\partial v}{\\partial y} \\ . $$\n",
    "\n",
    "On the c-grid, a finite-volume representation is given by\n",
    "\n",
    "$$ s =  (\\delta_i \\Delta y_g u - \\delta_j \\Delta x_g v ) / A_c \\ . $$"
   ]
  },
  {
   "cell_type": "code",
   "execution_count": 41,
   "metadata": {
    "scrolled": false
   },
   "outputs": [],
   "source": [
    "#strain = (grid.diff(ds.U * ds.dyG, 'X') - grid.diff(ds.V * ds.dxG, 'Y')) / ds.rA\n",
    "#strain[0,0].plot()"
   ]
  },
  {
   "cell_type": "markdown",
   "metadata": {},
   "source": [
    "### Barotropic Transport Streamfunction\n",
    "\n",
    "We can use the barotropic velocity to calcuate the barotropic transport streamfunction, defined via\n",
    "\n",
    "$$ u_{bt} = - \\frac{\\partial \\Psi}{\\partial y} \\ , \\ \\ v_{bt} = \\frac{\\partial \\Psi}{\\partial x} \\ .$$\n",
    "\n",
    "$$ \\Psi(x,y) = \\int_0^x \\int_{bottom}^{surface} v_{bt}(x,y) \\, \\text{d}z \\, \\text{d}x $$\n",
    "\n",
    "We calculate this by integrating $v_{bt}$ along the X axis using the grid object's `integrate` method:"
   ]
  },
  {
   "cell_type": "code",
   "execution_count": 18,
   "metadata": {},
   "outputs": [
    {
     "name": "stdout",
     "output_type": "stream",
     "text": [
      "Coordinates:\n",
      "  * t        (t) object 7756-01-01 00:00:00\n",
      "  * y_f      (y_f) float64 0.5 1.5 2.5 3.5 4.5 5.5 ... 35.5 36.5 37.5 38.5 39.5\n",
      "  * x_f      (x_f) float64 0.5 1.5 2.5 3.5 4.5 5.5 ... 16.5 17.5 18.5 19.5 20.5\n"
     ]
    },
    {
     "data": {
      "text/plain": [
       "(0, 60)"
      ]
     },
     "execution_count": 18,
     "metadata": {},
     "output_type": "execute_result"
    },
    {
     "data": {
      "image/png": "[encoded data removed]",
      "text/plain": [
       "<Figure size 432x720 with 2 Axes>"
      ]
     },
     "metadata": {
      "needs_background": "light"
     },
     "output_type": "display_data"
    }
   ],
   "source": [
    "psi = grid.cumint(grid.integrate(ds.vo*ds.e3v/domcfg.e3v_0,'Z'),'X', boundary='fill') * 1e-6\n",
    "print(psi.coords)\n",
    "plt.contourf(\n",
    "    domcfg.glamf,\n",
    "    domcfg.gphif,\n",
    "    psi.isel({'t':0}),\n",
    "    levels=np.linspace(-14,14,15),\n",
    "    cmap='RdBu_r'\n",
    ")\n",
    "plt.colorbar(label='Psi barotropic [Sv]')\n",
    "plt.ylim(0,60)"
   ]
  },
  {
   "cell_type": "code",
   "execution_count": 15,
   "metadata": {},
   "outputs": [
    {
     "data": {
      "text/html": [
       "<pre>&lt;xarray.DataArray ()&gt;\n",
       "array(13.1183159)</pre>"
      ],
      "text/plain": [
       "<xarray.DataArray ()>\n",
       "array(13.1183159)"
      ]
     },
     "execution_count": 15,
     "metadata": {},
     "output_type": "execute_result"
    }
   ],
   "source": []
  },
  {
   "cell_type": "code",
   "execution_count": null,
   "metadata": {},
   "outputs": [],
   "source": []
  },
  {
   "cell_type": "markdown",
   "metadata": {},
   "source": [
    "We see that xgcm automatically shifted the Y-axis position from center (YC) to left (YG) during the cumsum operation.\n",
    "\n",
    "We convert to sverdrups and plot with a contour plot."
   ]
  },
  {
   "cell_type": "code",
   "execution_count": null,
   "metadata": {},
   "outputs": [],
   "source": []
  },
  {
   "cell_type": "markdown",
   "metadata": {},
   "source": [
    "### Kinetic Energy\n",
    "\n",
    "Finally, we plot the kinetic energy $1/2 (u^2 + v^2)$ by interpoloting both quantities the cell center point."
   ]
  },
  {
   "cell_type": "code",
   "execution_count": 10,
   "metadata": {},
   "outputs": [],
   "source": [
    "# an example of calculating kinetic energy\n",
    "#ke = 0.5*(grid.interp((ds.U*ds.hFacW)**2, 'X') + grid.interp((ds.V*ds.hFacS)**2, 'Y'))\n",
    "#ke[0,0].plot()"
   ]
  },
  {
   "cell_type": "code",
   "execution_count": null,
   "metadata": {},
   "outputs": [],
   "source": []
  }
 ],
 "metadata": {
  "kernelspec": {
   "display_name": "Python 3",
   "language": "python",
   "name": "python3"
  },
  "language_info": {
   "codemirror_mode": {
    "name": "ipython",
    "version": 3
   },
   "file_extension": ".py",
   "mimetype": "text/x-python",
   "name": "python",
   "nbconvert_exporter": "python",
   "pygments_lexer": "ipython3",
   "version": "3.6.8"
  }
 },
 "nbformat": 4,
 "nbformat_minor": 1
}
