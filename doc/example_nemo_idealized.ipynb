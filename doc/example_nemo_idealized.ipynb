{
 "cells": [
  {
   "cell_type": "markdown",
   "metadata": {},
   "source": [
    "# NEMO Example \n",
    "\n",
    "For this example, the NEMO output files have already been saved as netCDF with the right coordinate names. The [xorca](https://github.com/willirath/xorca) package is designed to open NEMO datasets so they are understandable by xgcm. The [xnemogcm](https://github.com/rcaneill/xnemogcm) does a similar work on idealized configurations.\n",
    "\n",
    "Below are some example of how to make calculations using xgcm.\n",
    "\n",
    "First we import xarray and xgcm:"
   ]
  },
  {
   "cell_type": "code",
   "execution_count": 17,
   "metadata": {},
   "outputs": [],
   "source": [
    "import xarray as xr\n",
    "import numpy as np\n",
    "import xgcm\n",
    "from matplotlib import pyplot as plt\n",
    "%matplotlib inline\n",
    "plt.rcParams['figure.figsize'] = (6,10)"
   ]
  },
  {
   "cell_type": "markdown",
   "metadata": {},
   "source": [
    "Now we open the NEMO example dataset, from the BASIN configuration. The *ds* dataset contains the variables data (e.g. temperature, velocities) while the *domcfg* dataset contains the grid data (position, scale factor, etc).\n",
    "\n",
    "We get a dataset produced for the purpose of this documentation \n",
    "[![DOI](https://zenodo.org/badge/DOI/10.5281/zenodo.3736803.svg)](https://doi.org/10.5281/zenodo.3736803).\n",
    "In this dataset, we have not outputed the vertical scale factors in the *file_def_nemo-oce.xml* to save space. In a real case, the scale factors need to be saved to use properly the \"thickness weighted\" variables. The *domcfg* dataset has also been filtered to remove many unused variables in this notebook (e.g. *umask*)."
   ]
  },
  {
   "cell_type": "code",
   "execution_count": 18,
   "metadata": {},
   "outputs": [],
   "source": [
    "# download the data\n",
    "import urllib.request\n",
    "import shutil\n",
    "\n",
    "url = 'https://zenodo.org/record/3736803/files/'\n",
    "file_name_domcfg = 'xnemogcm.domcfg.nc'\n",
    "with urllib.request.urlopen(url + file_name_domcfg) as response, open(file_name_domcfg, 'wb') as out_file:\n",
    "    shutil.copyfileobj(response, out_file)\n",
    "file_name_basin = 'xnemogcm.nemo.nc'\n",
    "with urllib.request.urlopen(url + file_name_basin) as response, open(file_name_basin, 'wb') as out_file:\n",
    "    shutil.copyfileobj(response, out_file)\n",
    "    \n",
    "# open the data\n",
    "domcfg = xr.open_dataset(file_name_domcfg)\n",
    "ds = xr.open_dataset(file_name_basin)"
   ]
  },
  {
   "cell_type": "markdown",
   "metadata": {},
   "source": [
    "Add the vertical scale factors to *ds* (output of the model in real cases):"
   ]
  },
  {
   "cell_type": "code",
   "execution_count": 19,
   "metadata": {},
   "outputs": [],
   "source": [
    "points = ['t', 'u', 'v', 'f', 'w']\n",
    "for point in points:\n",
    "    ds[f\"e3{point}\"] = domcfg[f\"e3{point}_0\"]"
   ]
  },
  {
   "cell_type": "code",
   "execution_count": 20,
   "metadata": {},
   "outputs": [
    {
     "name": "stdout",
     "output_type": "stream",
     "text": [
      "\n",
      " domcfg \n",
      " <xarray.Dataset>\n",
      "Dimensions:    (x_c: 20, x_f: 20, y_c: 40, y_f: 40, z_c: 36, z_f: 36)\n",
      "Coordinates:\n",
      "  * x_c        (x_c) int64 0 1 2 3 4 5 6 7 8 9 10 11 12 13 14 15 16 17 18 19\n",
      "  * y_c        (y_c) int64 0 1 2 3 4 5 6 7 8 9 ... 30 31 32 33 34 35 36 37 38 39\n",
      "  * x_f        (x_f) float64 0.5 1.5 2.5 3.5 4.5 ... 15.5 16.5 17.5 18.5 19.5\n",
      "  * y_f        (y_f) float64 0.5 1.5 2.5 3.5 4.5 ... 35.5 36.5 37.5 38.5 39.5\n",
      "  * z_c        (z_c) float32 5.0 15.0 25.0 35.0 ... 3379.915 3786.7092 4219.6006\n",
      "  * z_f        (z_f) float32 4.5 14.5 24.5 34.5 ... 3379.415 3786.2092 4219.1006\n",
      "Data variables:\n",
      "    glamt      (y_c, x_c) float64 ...\n",
      "    glamf      (y_f, x_f) float64 ...\n",
      "    gphit      (y_c, x_c) float64 ...\n",
      "    gphif      (y_f, x_f) float64 ...\n",
      "    e1t        (y_c, x_c) float64 ...\n",
      "    e1u        (y_c, x_f) float64 ...\n",
      "    e1v        (y_f, x_c) float64 ...\n",
      "    e1f        (y_f, x_f) float64 ...\n",
      "    e2t        (y_c, x_c) float64 ...\n",
      "    e2u        (y_c, x_f) float64 ...\n",
      "    e2v        (y_f, x_c) float64 ...\n",
      "    e2f        (y_f, x_f) float64 ...\n",
      "    e3t_0      (z_c, y_c, x_c) float64 ...\n",
      "    e3u_0      (z_c, y_c, x_f) float64 ...\n",
      "    e3v_0      (z_c, y_f, x_c) float64 ...\n",
      "    e3f_0      (z_c, y_f, x_f) float64 ...\n",
      "    e3w_0      (z_f, y_c, x_c) float64 ...\n",
      "    ht_0       (y_c, x_c) float64 ...\n",
      "    fmaskutil  (y_f, x_f) float64 ...\n",
      "Attributes:\n",
      "    DOMAIN_number_total:     1\n",
      "    DOMAIN_number:           1\n",
      "    DOMAIN_dimensions_ids:   [1 2]\n",
      "    DOMAIN_size_global:      [20 40]\n",
      "    DOMAIN_size_local:       [20 40]\n",
      "    DOMAIN_position_first:   [1 1]\n",
      "    DOMAIN_position_last:    [20 40]\n",
      "    DOMAIN_halo_size_start:  [0 0]\n",
      "    DOMAIN_halo_size_end:    [0 0]\n",
      "    DOMAIN_type:             BOX\n",
      "    nn_cfg:                  2\n",
      "    cn_cfg:                  BASIN\n",
      "\n",
      " ds \n",
      " <xarray.Dataset>\n",
      "Dimensions:        (axis_nbounds: 2, t: 1, x_c: 20, x_f: 20, y_c: 40, y_f: 40, z_c: 36, z_f: 36)\n",
      "Coordinates:\n",
      "  * z_f            (z_f) float32 4.5 14.5 24.5 ... 3379.415 3786.2092 4219.1006\n",
      "  * t              (t) object 1050-07-01 00:00:00\n",
      "  * x_c            (x_c) int64 0 1 2 3 4 5 6 7 8 9 10 11 12 13 14 15 16 17 18 19\n",
      "  * y_c            (y_c) int64 0 1 2 3 4 5 6 7 8 ... 31 32 33 34 35 36 37 38 39\n",
      "  * z_c            (z_c) float32 5.0 15.0 25.0 ... 3379.915 3786.7092 4219.6006\n",
      "  * x_f            (x_f) float64 0.5 1.5 2.5 3.5 4.5 ... 16.5 17.5 18.5 19.5\n",
      "  * y_f            (y_f) float64 0.5 1.5 2.5 3.5 4.5 ... 36.5 37.5 38.5 39.5\n",
      "Dimensions without coordinates: axis_nbounds\n",
      "Data variables:\n",
      "    depthw_bounds  (z_f, axis_nbounds) float32 ...\n",
      "    t_bounds       (t, axis_nbounds) object ...\n",
      "    woce           (t, z_f, y_c, x_c) float64 ...\n",
      "    deptht_bounds  (z_c, axis_nbounds) float32 ...\n",
      "    thetao         (t, z_c, y_c, x_c) float64 ...\n",
      "    so             (t, z_c, y_c, x_c) float64 ...\n",
      "    tos            (t, y_c, x_c) float64 ...\n",
      "    zos            (t, y_c, x_c) float64 ...\n",
      "    depthu_bounds  (z_c, axis_nbounds) float32 ...\n",
      "    uos            (t, y_c, x_f) float64 ...\n",
      "    uo             (t, z_c, y_c, x_f) float64 ...\n",
      "    depthv_bounds  (z_c, axis_nbounds) float32 ...\n",
      "    vos            (t, y_f, x_c) float64 ...\n",
      "    vo             (t, z_c, y_f, x_c) float64 ...\n",
      "    e3t            (z_c, y_c, x_c) float64 ...\n",
      "    e3u            (z_c, y_c, x_f) float64 ...\n",
      "    e3v            (z_c, y_f, x_c) float64 ...\n",
      "    e3f            (z_c, y_f, x_f) float64 ...\n",
      "    e3w            (z_f, y_c, x_c) float64 ...\n",
      "Attributes:\n",
      "    name:         NEMO dataset \n",
      "    description:  Ocean grid variables, set on the proper positions\n",
      "    title:        Ocean grid variables\n"
     ]
    }
   ],
   "source": [
    "print('\\n domcfg \\n', domcfg)\n",
    "print('\\n ds \\n', ds)"
   ]
  },
  {
   "cell_type": "markdown",
   "metadata": {},
   "source": [
    "In the coordinates, the *_c* suffix means *center* while the *_f* suffix means *face*. Thus the (x_c, y_c, z_c) point is the T point, the (x_c, y_f, z_c) is the V point, etc."
   ]
  },
  {
   "cell_type": "markdown",
   "metadata": {},
   "source": [
    "## Geometry of the basin\n",
    "The geometry of the simulation is a closed basin, with a bottom bathymetry, going from 2000 m at the coasts, to 4000 m in the interior of the basin. Terrain following coordinates are used and the free surface is linear (fixed vertical levels).\n",
    "A 2 degrees Mercator grid is used."
   ]
  },
  {
   "cell_type": "code",
   "execution_count": 5,
   "metadata": {},
   "outputs": [
    {
     "data": {
      "text/plain": [
       "<matplotlib.colorbar.Colorbar at 0x7fcf91a72278>"
      ]
     },
     "execution_count": 5,
     "metadata": {},
     "output_type": "execute_result"
    },
    {
     "data": {
      "image/png": "[encoded data removed]",
      "text/plain": [
       "<Figure size 432x720 with 2 Axes>"
      ]
     },
     "metadata": {
      "needs_background": "light"
     },
     "output_type": "display_data"
    }
   ],
   "source": [
    "plt.contourf(domcfg.glamt, domcfg.gphit, domcfg.ht_0)\n",
    "plt.colorbar()"
   ]
  },
  {
   "cell_type": "markdown",
   "metadata": {},
   "source": [
    "## Creating the grid object\n",
    "\n",
    "Next we create a `Grid` object from the dataset.\n",
    "All the axes are here non-periodic.\n",
    "The `metrics` dict contains the scale factors."
   ]
  },
  {
   "cell_type": "code",
   "execution_count": 6,
   "metadata": {},
   "outputs": [
    {
     "name": "stdout",
     "output_type": "stream",
     "text": [
      "<xgcm.Grid>\n",
      "Y Axis (not periodic):\n",
      "  * center   y_c --> right\n",
      "  * right    y_f --> center\n",
      "X Axis (not periodic):\n",
      "  * center   x_c --> right\n",
      "  * right    x_f --> center\n",
      "Z Axis (not periodic):\n",
      "  * center   z_c --> left\n",
      "  * left     z_f --> center\n"
     ]
    }
   ],
   "source": [
    "\n",
    "metrics = {\n",
    "    ('X',): ['e1t', 'e1u', 'e1v', 'e1f'], # X distances\n",
    "    ('Y',): ['e2t', 'e2u', 'e2v', 'e2f'], # Y distances\n",
    "    ('Z',): ['e3t_0', 'e3u_0', 'e3v_0', 'e3f_0', 'e3w_0'], # Z distances\n",
    "    #('X', 'Y'): [] # Areas TODO\n",
    "}\n",
    "grid = xgcm.Grid(domcfg, metrics=metrics, periodic=False)\n",
    "print(grid)"
   ]
  },
  {
   "cell_type": "markdown",
   "metadata": {},
   "source": [
    "We see that xgcm identified three different axes: X (longitude), Y (latitude), Z (depth)."
   ]
  },
  {
   "cell_type": "markdown",
   "metadata": {},
   "source": [
    "## Computation examples\n",
    "### Horizontal gradient of SST\n",
    "\n",
    "We will compute the horizontal component of the gradient of SST in the longitude\n",
    "direction as a first example to understand the logic behind the\n",
    "xgcm grids.\n",
    "\n",
    "We want to compute\n",
    "$\\frac{\\partial SST}{\\partial x}$.\n",
    "The SST is the variable `tos` (Temperature Ocean Surface) in our dataset.\n",
    "\n",
    "In discrete form, using the NEMO notation, the derivative becomes [1]\n",
    "\n",
    "$$\\frac{\\partial SST}{\\partial x} = \\frac{1}{e_{1u}} \\delta_{i+1/2} SST\n",
    "= \\frac{1}{e_{1u}} (SST_{i+1} - SST_i) \\ .$$\n",
    "\n",
    "The last T point is an earth point here, such as the 2 last U points: we set up the\n",
    "`boundary` argument to 'fill' and the fill value to zero (this value does not play an important role here, as we fill earth points).\n",
    "\n",
    "The gradient is first computed with the `diff` function and\n",
    "then with the `derivative` function, the result is the same as the `derivative`\n",
    "function is aware of which scale factor to use.\n",
    "\n",
    "<hr>\n",
    "[1] NEMO book v4.0.1, pp 22"
   ]
  },
  {
   "cell_type": "code",
   "execution_count": 7,
   "metadata": {},
   "outputs": [
    {
     "name": "stdout",
     "output_type": "stream",
     "text": [
      "Coordinates:\n",
      "  * t        (t) object 1050-07-01 00:00:00\n",
      "  * y_c      (y_c) int64 0 1 2 3 4 5 6 7 8 9 ... 30 31 32 33 34 35 36 37 38 39\n",
      "  * x_f      (x_f) float64 0.5 1.5 2.5 3.5 4.5 5.5 ... 15.5 16.5 17.5 18.5 19.5\n"
     ]
    },
    {
     "data": {
      "text/html": [
       "<pre>&lt;xarray.DataArray ()&gt;\n",
       "array(True)</pre>"
      ],
      "text/plain": [
       "<xarray.DataArray ()>\n",
       "array(True)"
      ]
     },
     "execution_count": 7,
     "metadata": {},
     "output_type": "execute_result"
    }
   ],
   "source": [
    "grad_T_lon0 = grid.diff(ds.tos, axis='X', boundary='fill', fill_value=0) / domcfg.e1u\n",
    "grad_T_lon1 = grid.derivative(ds.tos, axis='X', boundary='fill', fill_value=0)\n",
    "print(grad_T_lon1.coords)\n",
    "(grad_T_lon0 == grad_T_lon1).all()"
   ]
  },
  {
   "cell_type": "markdown",
   "metadata": {},
   "source": [
    "As expected the result of the 2 operations is the same.\n",
    "The position of the derivative is now on the U point."
   ]
  },
  {
   "cell_type": "markdown",
   "metadata": {},
   "source": [
    "### Divergence Calculation\n",
    "\n",
    "Here we show how to calculate the divergence of the flow.\n",
    "The precise details of how to do this calculation are highly model- and configuration-dependent (e.g. free-surface vs. rigid lid, etc.)\n",
    "In this example, the flow is incompressible, without precipitations\n",
    "or evaporation, with a linear free surface, satisfying the continuity equation\n",
    "\n",
    "$$ \\vec{\\nabla} \\cdot \\vec{u} = \n",
    "  \\frac{\\partial u}{\\partial x} + \\frac{\\partial v}{\\partial y}\n",
    "  + \\frac{\\partial w}{\\partial z} = 0 \\ .$$\n",
    "  \n",
    "In non-linear free surface, the divergence of $\\vec{u}$ is not 0 anymore, it is linked to\n",
    "the time variation of the $e_{3}$ scale factors.\n",
    "\n",
    "In discrete form, using NEMO notation, the equation becomes [1]\n",
    "\n",
    "$$ \\vec{\\nabla} \\cdot \\vec{u} = \\frac{1}{e_{1t}e_{2t}e_{3t}} \\left[\n",
    "  \\delta_i(u \\cdot e_{2u} \\cdot e_{3u})\n",
    "  + \\delta_j(v \\cdot e_{1v} \\cdot e_{3v}) \\right]\n",
    "  + \\frac{1}{e_{3t}} \\delta_k(w)  \\ .$$\n",
    "\n",
    "The equation for the divergence calculation could be simplified due to the geometry of our basin, but we will keep it in the general form.\n",
    "\n",
    "<hr>\n",
    "[1] NEMO book v4.0.1, pp 22"
   ]
  },
  {
   "cell_type": "markdown",
   "metadata": {},
   "source": [
    "#### 3d flow\n",
    "\n",
    "We can't use the `grid.derivative` function for *w* even if this is a simple vertical derivative: xgcm does not use the temporaly varying scale factors but the *domcfg.e3t_0* initial vertical scale factors. In this simple linear free surface case, the scale factors don't vary in time, but we will use here a more general approach.\n",
    "\n",
    "For *u* and *v* we use the `grid.diff` as this is not a simple derivative, even if the horizontal scale factors are fixed in time in any case.\n",
    "The first T point along x is an earth point, we can use a 'fill' `boundary` with a 0 `fill_value`. The same argument applies along y and z.\n",
    "\n",
    "&#x26A0; We need to use a negative sign for the vertical derivative, as the k-axis increases with depth.\n",
    "\n",
    "&#x26A0; If the model is ran without linear free surface the e3 scale factors are not constant in time, we need to take the e3 from *ds* and not from *domcfg*. The data are are \"thickness weighted\". To stay general, we use here the e3 scale factors from *ds*."
   ]
  },
  {
   "cell_type": "code",
   "execution_count": 8,
   "metadata": {},
   "outputs": [
    {
     "data": {
      "text/html": [
       "<pre>&lt;xarray.DataArray ()&gt;\n",
       "array(5.44218669e-19)</pre>"
      ],
      "text/plain": [
       "<xarray.DataArray ()>\n",
       "array(5.44218669e-19)"
      ]
     },
     "execution_count": 8,
     "metadata": {},
     "output_type": "execute_result"
    }
   ],
   "source": [
    "bd={'boundary':'fill', 'fill_value':0}\n",
    "\n",
    "div_uv = grid.diff(ds.uo * domcfg.e2u * ds.e3u, 'X', **bd) / (domcfg.e1t * domcfg.e2t * ds.e3t) \\\n",
    "    + grid.diff(ds.vo * domcfg.e1v * ds.e3v, 'Y', **bd) / (domcfg.e1t * domcfg.e2t * ds.e3t)\n",
    "\n",
    "div_w = - grid.diff(ds.woce, 'Z', **bd) / ds.e3t\n",
    "\n",
    "div_uvw = div_uv + div_w\n",
    "div_uvw.max()"
   ]
  },
  {
   "cell_type": "markdown",
   "metadata": {},
   "source": [
    "As expected the divergence of the flow is zero (if we neglect the truncation error)."
   ]
  },
  {
   "cell_type": "markdown",
   "metadata": {},
   "source": [
    "#### Vertical velocity\n",
    "\n",
    "In NEMO the vertical velocity is computed from the divergence of the horizontal velocity.\n",
    "In non-linear free surface, the vertical velocity can't be computed offline because it also takes the time\n",
    "variations of the vertical scale factors into account.\n",
    "However, we are using here a linear free surface, so that\n",
    "\n",
    "$$\n",
    "w(z) = \\int_{bottom}^z \\vec{\\nabla}_h \\cdot \\vec{u} \\, \\text{d}z' \n",
    "= \\int_{surf}^z \\vec{\\nabla}_h \\cdot \\vec{u} \\, \\text{d}z' - \\int_{surf}^{bottom} \\vec{\\nabla}_h \\cdot \\vec{u} \\, \\text{d}z' \\ .\n",
    "$$\n",
    "\n",
    "This is written in discrete form\n",
    "\n",
    "$$\n",
    "w(n) = \\sum_0^n \\left(\\vec{\\nabla}_h \\cdot \\vec{u}(k)\\right)  e_{3t}(k)\n",
    "- \\sum_0^{n_{bot}} \\left(\\vec{\\nabla}_h \\cdot \\vec{u}(k)\\right)  e_{3t}(k) \\ .\n",
    "$$\n",
    "\n",
    "We use the `grid.cumsum` to perform the integration, and then we remove the total integral.\n",
    "This is shown here with 2 methods that give the same numerical result, however the first method runs faster."
   ]
  },
  {
   "cell_type": "code",
   "execution_count": 9,
   "metadata": {},
   "outputs": [
    {
     "data": {
      "text/html": [
       "<pre>&lt;xarray.DataArray ()&gt;\n",
       "array(True)</pre>"
      ],
      "text/plain": [
       "<xarray.DataArray ()>\n",
       "array(True)"
      ]
     },
     "execution_count": 9,
     "metadata": {},
     "output_type": "execute_result"
    }
   ],
   "source": [
    "w = grid.cumsum((div_uv*ds.e3t), axis='Z', boundary='fill', fill_value=0) # integral from top\n",
    "w = w - w.isel({'z_f':-1}) # now from bot\n",
    "\n",
    "w_alt = grid.cumsum((div_uv*ds.e3t), axis='Z', boundary='fill', fill_value=0) - (div_uv*ds.e3t).sum(dim='z_c')\n",
    "\n",
    "(w == w_alt).all()"
   ]
  },
  {
   "cell_type": "markdown",
   "metadata": {},
   "source": [
    "Remark: the first method runs faster, indeed we perfom only once the integral."
   ]
  },
  {
   "cell_type": "code",
   "execution_count": 10,
   "metadata": {},
   "outputs": [
    {
     "name": "stdout",
     "output_type": "stream",
     "text": [
      "2.7 ms ± 451 µs per loop (mean ± std. dev. of 7 runs, 100 loops each)\n",
      "3.61 ms ± 489 µs per loop (mean ± std. dev. of 7 runs, 100 loops each)\n"
     ]
    }
   ],
   "source": [
    "def w1(grid, div_uv, ds):\n",
    "    w = grid.cumsum((div_uv*ds.e3t), axis='Z', boundary='fill', fill_value=0) # integral from top\n",
    "    return w - w.isel({'z_f':-1}) # now from bot\n",
    "\n",
    "def w2(grid, div_uv, ds):\n",
    "    return grid.cumsum((div_uv*ds.e3t), axis='Z', boundary='fill', fill_value=0) - (div_uv*ds.e3t).sum(dim='z_c')\n",
    "\n",
    "%timeit w1(grid, div_uv, ds)\n",
    "%timeit w2(grid, div_uv, ds)"
   ]
  },
  {
   "cell_type": "markdown",
   "metadata": {},
   "source": [
    "We now compare the computed vertical velocity with the one outputed by the model, at the bottom of the uper grid cell."
   ]
  },
  {
   "cell_type": "code",
   "execution_count": 11,
   "metadata": {},
   "outputs": [
    {
     "data": {
      "text/plain": [
       "<matplotlib.collections.QuadMesh at 0x7fcf91870e10>"
      ]
     },
     "execution_count": 11,
     "metadata": {},
     "output_type": "execute_result"
    },
    {
     "data": {
      "image/png": "[encoded data removed]",
      "text/plain": [
       "<Figure size 432x720 with 4 Axes>"
      ]
     },
     "metadata": {
      "needs_background": "light"
     },
     "output_type": "display_data"
    }
   ],
   "source": [
    "fig, ax = plt.subplots(2, 1)\n",
    "ds.woce.isel({'z_f':1}).plot(ax=ax[0])\n",
    "w.isel({'z_f':1}).plot(ax=ax[1])"
   ]
  },
  {
   "cell_type": "markdown",
   "metadata": {},
   "source": [
    "The 2 fields look similar, which is confirmed by computing the difference."
   ]
  },
  {
   "cell_type": "code",
   "execution_count": 12,
   "metadata": {},
   "outputs": [
    {
     "data": {
      "text/html": [
       "<pre>&lt;xarray.DataArray ()&gt;\n",
       "array(2.07489191e-17)</pre>"
      ],
      "text/plain": [
       "<xarray.DataArray ()>\n",
       "array(2.07489191e-17)"
      ]
     },
     "execution_count": 12,
     "metadata": {},
     "output_type": "execute_result"
    }
   ],
   "source": [
    "abs((w - ds.woce)).max()"
   ]
  },
  {
   "cell_type": "markdown",
   "metadata": {},
   "source": [
    "### Vorticity\n",
    "Here we compute more derived quantities from the velocity field.\n",
    "\n",
    "The vertical component of the vorticity is a fundamental quantity of interest in ocean circulation theory. It is defined as\n",
    "\n",
    "$$ \\zeta = \\frac{\\partial v}{\\partial x} - \\frac{\\partial u}{\\partial y} \\ . $$\n",
    "\n",
    "The NEMO discretization is [1]\n",
    "\n",
    "$$\n",
    "\\zeta = \\frac{1}{e_{1f} e_{2f}} \\left[\\delta_{i+1/2}(v \\cdot e_{2v}) - \\delta_{j+1/2}(u \\cdot e_{1u}) \\right] \n",
    "$$\n",
    "\n",
    "<hr>\n",
    "[1] NEMO book v4.0.1, pp 22\n",
    "<hr>\n",
    "\n",
    "In xgcm, we calculate this quantity as"
   ]
  },
  {
   "cell_type": "code",
   "execution_count": 13,
   "metadata": {},
   "outputs": [
    {
     "data": {
      "text/plain": [
       "Coordinates:\n",
       "  * x_f      (x_f) float64 0.5 1.5 2.5 3.5 4.5 5.5 ... 15.5 16.5 17.5 18.5 19.5\n",
       "  * y_f      (y_f) float64 0.5 1.5 2.5 3.5 4.5 5.5 ... 35.5 36.5 37.5 38.5 39.5\n",
       "  * t        (t) object 1050-07-01 00:00:00\n",
       "  * z_c      (z_c) float32 5.0 15.0 25.0 35.0 ... 3379.915 3786.7092 4219.6006"
      ]
     },
     "execution_count": 13,
     "metadata": {},
     "output_type": "execute_result"
    }
   ],
   "source": [
    "zeta = 1/(domcfg.e1f*domcfg.e2f) * (grid.diff(ds.vo*domcfg.e2v, 'X', **bd) - grid.diff(ds.uo*domcfg.e1u, 'Y', **bd)) * domcfg.fmaskutil\n",
    "zeta.coords"
   ]
  },
  {
   "cell_type": "markdown",
   "metadata": {},
   "source": [
    "$\\zeta$ is located in the F point (*x_f*, *y_f*).\n",
    "\n",
    "We plot the vertical integral of this quantity, i.e. the barotropic vorticity:"
   ]
  },
  {
   "cell_type": "code",
   "execution_count": 14,
   "metadata": {},
   "outputs": [
    {
     "data": {
      "text/plain": [
       "<matplotlib.colorbar.Colorbar at 0x7fcf9176a898>"
      ]
     },
     "execution_count": 14,
     "metadata": {},
     "output_type": "execute_result"
    },
    {
     "data": {
      "image/png": "[encoded data removed]",
      "text/plain": [
       "<Figure size 432x720 with 2 Axes>"
      ]
     },
     "metadata": {
      "needs_background": "light"
     },
     "output_type": "display_data"
    }
   ],
   "source": [
    "zeta_bt = (zeta * ds.e3f).sum(dim='z_c')\n",
    "plt.contourf(\n",
    "    domcfg.glamf,\n",
    "    domcfg.gphif,\n",
    "    zeta_bt.isel({'t':0}),\n",
    "    levels=np.linspace(-abs(zeta_bt).max(), abs(zeta_bt).max(), 21),\n",
    "    cmap='RdBu_r'\n",
    ")\n",
    "plt.colorbar()"
   ]
  },
  {
   "cell_type": "markdown",
   "metadata": {},
   "source": [
    "### Barotropic Transport Streamfunction\n",
    "\n",
    "We can use the barotropic velocity to calcuate the barotropic transport streamfunction, defined via\n",
    "\n",
    "$$ u_{bt} = - \\frac{\\partial \\Psi}{\\partial y} \\ , \\ \\ v_{bt} = \\frac{\\partial \\Psi}{\\partial x} \\ .$$\n",
    "\n",
    "$$ \\Psi(x,y) = \\int_0^x \\int_{bottom}^{surface} v_{bt}(x,y) \\, \\text{d}z \\, \\text{d}x $$\n",
    "\n",
    "We calculate this by integrating $v_{bt}$ along the X axis using the grid object's `cumint` method:"
   ]
  },
  {
   "cell_type": "code",
   "execution_count": 15,
   "metadata": {},
   "outputs": [
    {
     "name": "stdout",
     "output_type": "stream",
     "text": [
      "Coordinates:\n",
      "  * t        (t) object 1050-07-01 00:00:00\n",
      "  * y_f      (y_f) float64 0.5 1.5 2.5 3.5 4.5 5.5 ... 35.5 36.5 37.5 38.5 39.5\n",
      "  * x_f      (x_f) float64 0.5 1.5 2.5 3.5 4.5 5.5 ... 15.5 16.5 17.5 18.5 19.5\n"
     ]
    },
    {
     "data": {
      "text/plain": [
       "(0, 60)"
      ]
     },
     "execution_count": 15,
     "metadata": {},
     "output_type": "execute_result"
    },
    {
     "data": {
      "image/png": "[encoded data removed]",
      "text/plain": [
       "<Figure size 432x720 with 2 Axes>"
      ]
     },
     "metadata": {
      "needs_background": "light"
     },
     "output_type": "display_data"
    }
   ],
   "source": [
    "psi = grid.cumint((ds.vo*ds.e3v).sum(dim='z_c'),'X', **bd) * 1e-6\n",
    "print(psi.coords)\n",
    "plt.contourf(\n",
    "    domcfg.glamf,\n",
    "    domcfg.gphif,\n",
    "    psi.isel({'t':0}),\n",
    "    levels=25,\n",
    "    cmap='RdBu_r'\n",
    ")\n",
    "plt.colorbar(label='Psi barotropic [Sv]')\n",
    "plt.ylim(0,60)"
   ]
  },
  {
   "cell_type": "markdown",
   "metadata": {},
   "source": [
    "By construction, $\\psi$ is 0 at the western boundary."
   ]
  },
  {
   "cell_type": "markdown",
   "metadata": {},
   "source": [
    "### Kinetic Energy\n",
    "\n",
    "Finally, we plot the surface kinetic energy $1/2 (u^2 + v^2)$ by interpoloting both quantities the cell center point."
   ]
  },
  {
   "cell_type": "code",
   "execution_count": 16,
   "metadata": {},
   "outputs": [
    {
     "data": {
      "text/plain": [
       "<matplotlib.collections.QuadMesh at 0x7fcf915e3128>"
      ]
     },
     "execution_count": 16,
     "metadata": {},
     "output_type": "execute_result"
    },
    {
     "data": {
      "image/png": "[encoded data removed]",
      "text/plain": [
       "<Figure size 432x720 with 2 Axes>"
      ]
     },
     "metadata": {
      "needs_background": "light"
     },
     "output_type": "display_data"
    }
   ],
   "source": [
    "# an example of calculating kinetic energy\n",
    "ke = 0.5*(grid.interp((ds.uo)**2, 'X', **bd) + grid.interp((ds.vo)**2, 'Y', **bd))\n",
    "ke[0,0].plot()"
   ]
  }
 ],
 "metadata": {
  "kernelspec": {
   "display_name": "Python 3",
   "language": "python",
   "name": "python3"
  },
  "language_info": {
   "codemirror_mode": {
    "name": "ipython",
    "version": 3
   },
   "file_extension": ".py",
   "mimetype": "text/x-python",
   "name": "python",
   "nbconvert_exporter": "python",
   "pygments_lexer": "ipython3",
   "version": "3.6.10"
  }
 },
 "nbformat": 4,
 "nbformat_minor": 4
}
